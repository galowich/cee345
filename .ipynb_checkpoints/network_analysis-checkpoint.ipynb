{
 "cells": [
  {
   "cell_type": "code",
   "execution_count": 374,
   "metadata": {},
   "outputs": [],
   "source": [
    "import numpy as np\n",
    "import pandas as pd\n",
    "import geopandas as gpd\n",
    "import networkx as nx\n",
    "import matplotlib.pyplot as plt\n",
    "import math\n",
    "import random\n",
    "from scipy.stats import expon\n",
    "import time"
   ]
  },
  {
   "cell_type": "code",
   "execution_count": 238,
   "metadata": {},
   "outputs": [],
   "source": [
    "bronx_all = pd.read_csv('all_bronx_edges.csv')\n",
    "queens_all = pd.read_csv('all_queens_edges.csv')"
   ]
  },
  {
   "cell_type": "code",
   "execution_count": 589,
   "metadata": {},
   "outputs": [],
   "source": [
    "bronx_all_graph = nx.from_pandas_edgelist(bronx_all,source='NodeIDFrom',target='NodeIDTo',edge_attr=['SegmentID','persons_injured','pedestrians_injured','volume_count'])"
   ]
  },
  {
   "cell_type": "code",
   "execution_count": 590,
   "metadata": {},
   "outputs": [
    {
     "data": {
      "text/plain": [
       "{'SegmentID': 78126,\n",
       " 'pedestrians_injured': 0.0,\n",
       " 'persons_injured': 2.0,\n",
       " 'volume_count': 0.0}"
      ]
     },
     "execution_count": 590,
     "metadata": {},
     "output_type": "execute_result"
    }
   ],
   "source": [
    "bronx_all_graph[47740][9045677]"
   ]
  },
  {
   "cell_type": "code",
   "execution_count": 591,
   "metadata": {},
   "outputs": [
    {
     "data": {
      "text/plain": [
       "{}"
      ]
     },
     "execution_count": 591,
     "metadata": {},
     "output_type": "execute_result"
    }
   ],
   "source": [
    "bronx_all_graph.nodes[47740]"
   ]
  },
  {
   "cell_type": "code",
   "execution_count": 592,
   "metadata": {},
   "outputs": [
    {
     "data": {
      "text/html": [
       "<div>\n",
       "<style scoped>\n",
       "    .dataframe tbody tr th:only-of-type {\n",
       "        vertical-align: middle;\n",
       "    }\n",
       "\n",
       "    .dataframe tbody tr th {\n",
       "        vertical-align: top;\n",
       "    }\n",
       "\n",
       "    .dataframe thead th {\n",
       "        text-align: right;\n",
       "    }\n",
       "</style>\n",
       "<table border=\"1\" class=\"dataframe\">\n",
       "  <thead>\n",
       "    <tr style=\"text-align: right;\">\n",
       "      <th></th>\n",
       "      <th>Unnamed: 0</th>\n",
       "      <th>SegmentID</th>\n",
       "      <th>NodeIDFrom</th>\n",
       "      <th>NodeIDTo</th>\n",
       "      <th>LCB2010</th>\n",
       "      <th>RCB2010</th>\n",
       "      <th>persons_injured</th>\n",
       "      <th>pedestrians_injured</th>\n",
       "      <th>volume_count</th>\n",
       "    </tr>\n",
       "  </thead>\n",
       "  <tbody>\n",
       "    <tr>\n",
       "      <th>0</th>\n",
       "      <td>0</td>\n",
       "      <td>78126</td>\n",
       "      <td>47740</td>\n",
       "      <td>9045677</td>\n",
       "      <td>3001</td>\n",
       "      <td>2000</td>\n",
       "      <td>2.0</td>\n",
       "      <td>0.0</td>\n",
       "      <td>0.0</td>\n",
       "    </tr>\n",
       "    <tr>\n",
       "      <th>1</th>\n",
       "      <td>1</td>\n",
       "      <td>79796</td>\n",
       "      <td>48679</td>\n",
       "      <td>48678</td>\n",
       "      <td>2000</td>\n",
       "      <td>1004</td>\n",
       "      <td>0.0</td>\n",
       "      <td>0.0</td>\n",
       "      <td>0.0</td>\n",
       "    </tr>\n",
       "    <tr>\n",
       "      <th>2</th>\n",
       "      <td>2</td>\n",
       "      <td>77356</td>\n",
       "      <td>47288</td>\n",
       "      <td>47822</td>\n",
       "      <td>2000</td>\n",
       "      <td>3006</td>\n",
       "      <td>0.0</td>\n",
       "      <td>0.0</td>\n",
       "      <td>0.0</td>\n",
       "    </tr>\n",
       "    <tr>\n",
       "      <th>3</th>\n",
       "      <td>3</td>\n",
       "      <td>73490</td>\n",
       "      <td>45034</td>\n",
       "      <td>45038</td>\n",
       "      <td>1004</td>\n",
       "      <td>1008</td>\n",
       "      <td>0.0</td>\n",
       "      <td>0.0</td>\n",
       "      <td>0.0</td>\n",
       "    </tr>\n",
       "    <tr>\n",
       "      <th>4</th>\n",
       "      <td>4</td>\n",
       "      <td>174633</td>\n",
       "      <td>84655</td>\n",
       "      <td>45050</td>\n",
       "      <td>1003</td>\n",
       "      <td>1001</td>\n",
       "      <td>0.0</td>\n",
       "      <td>0.0</td>\n",
       "      <td>0.0</td>\n",
       "    </tr>\n",
       "  </tbody>\n",
       "</table>\n",
       "</div>"
      ],
      "text/plain": [
       "   Unnamed: 0  SegmentID  NodeIDFrom  NodeIDTo  LCB2010  RCB2010  \\\n",
       "0           0      78126       47740   9045677     3001     2000   \n",
       "1           1      79796       48679     48678     2000     1004   \n",
       "2           2      77356       47288     47822     2000     3006   \n",
       "3           3      73490       45034     45038     1004     1008   \n",
       "4           4     174633       84655     45050     1003     1001   \n",
       "\n",
       "   persons_injured  pedestrians_injured  volume_count  \n",
       "0              2.0                  0.0           0.0  \n",
       "1              0.0                  0.0           0.0  \n",
       "2              0.0                  0.0           0.0  \n",
       "3              0.0                  0.0           0.0  \n",
       "4              0.0                  0.0           0.0  "
      ]
     },
     "execution_count": 592,
     "metadata": {},
     "output_type": "execute_result"
    }
   ],
   "source": [
    "bronx_all.head()"
   ]
  },
  {
   "cell_type": "code",
   "execution_count": 593,
   "metadata": {},
   "outputs": [
    {
     "name": "stdout",
     "output_type": "stream",
     "text": [
      "Number of nodes: 19466\n",
      "Number of edges: 27163\n"
     ]
    }
   ],
   "source": [
    "n = bronx_all_graph.number_of_nodes()\n",
    "m = bronx_all_graph.number_of_edges()\n",
    "print(\"Number of nodes:\", n)\n",
    "print(\"Number of edges:\", m)"
   ]
  },
  {
   "cell_type": "markdown",
   "metadata": {},
   "source": [
    "# Slow Zone Modularity Analysis"
   ]
  },
  {
   "cell_type": "code",
   "execution_count": 594,
   "metadata": {},
   "outputs": [],
   "source": [
    "node_indicators = pd.read_csv('slow_zone_indicator_csv.csv',dtype=int)\n",
    "intermediate_dict = node_indicators.set_index('NODEID').to_dict()\n",
    "node_dict = intermediate_dict['in_slow_zone']"
   ]
  },
  {
   "cell_type": "code",
   "execution_count": 595,
   "metadata": {},
   "outputs": [],
   "source": [
    "nx.set_node_attributes(bronx_all_graph, node_dict, 'slow_zone_ind')"
   ]
  },
  {
   "cell_type": "code",
   "execution_count": 596,
   "metadata": {},
   "outputs": [
    {
     "data": {
      "text/plain": [
       "{'slow_zone_ind': 0}"
      ]
     },
     "execution_count": 596,
     "metadata": {},
     "output_type": "execute_result"
    }
   ],
   "source": [
    "bronx_all_graph.nodes[47740]"
   ]
  },
  {
   "cell_type": "code",
   "execution_count": 597,
   "metadata": {},
   "outputs": [],
   "source": [
    "def f_modularity(weight_var, node_ind):\n",
    "    mod_mtx = nx.modularity_matrix(bronx_all_graph, nodelist = None, weight = weight_var)\n",
    "    \n",
    "    node_indicators = list(nx.get_node_attributes(bronx_all_graph, node_ind).values())\n",
    "    #node_indicators = [0.0 if math.isnan(ind) else ind for ind in node_indicators]\n",
    "    n_slow_zone_nodes = sum(node_indicators)\n",
    "    percent_slow_zone_nodes = n_slow_zone_nodes/n*100\n",
    "    \n",
    "    k_delta = np.zeros((n,n))\n",
    "    for i in range(n):\n",
    "        for j in range(n):\n",
    "            if node_indicators[i] == node_indicators[j]:\n",
    "                k_delta[i][j] = 1\n",
    "    \n",
    "    slow_zone_mod = 1/(2*m)*np.matmul(mod_mtx, k_delta).sum()\n",
    "    return(n_slow_zone_nodes, percent_slow_zone_nodes, slow_zone_mod)"
   ]
  },
  {
   "cell_type": "code",
   "execution_count": 598,
   "metadata": {},
   "outputs": [],
   "source": [
    "slow_zone_modularity = f_modularity('persons_injured', 'slow_zone_ind')"
   ]
  },
  {
   "cell_type": "code",
   "execution_count": 599,
   "metadata": {},
   "outputs": [
    {
     "name": "stdout",
     "output_type": "stream",
     "text": [
      "Number of nodes in slow zones: 808\n",
      "Percentage of nodes in slow zones: 4.150827083119285 %\n",
      "Modularity: 7.089795051195588e-13\n"
     ]
    }
   ],
   "source": [
    "print(\"Number of nodes in slow zones:\", slow_zone_modularity[0])\n",
    "print(\"Percentage of nodes in slow zones:\", slow_zone_modularity[1], \"%\")\n",
    "print(\"Modularity:\", slow_zone_modularity[2])"
   ]
  },
  {
   "cell_type": "markdown",
   "metadata": {},
   "source": [
    "### Expand to include nodes within proximity of slow zones"
   ]
  },
  {
   "cell_type": "code",
   "execution_count": 435,
   "metadata": {},
   "outputs": [],
   "source": [
    "streets = gpd.read_file(\"/Users/rgalowich/Desktop/PC - Shared/CEE 345/lion_streets\")\n",
    "nodes = gpd.read_file(\"/Users/rgalowich/Desktop/PC - Shared/CEE 345/lion_projected_nodes\")\n",
    "slow_zones = gpd.read_file(\"/Users/rgalowich/Dropbox (MIT)/Stanford/18-19/Spring/CEE 345/Final Project/VZV_Neighborhood Slow Zones\")"
   ]
  },
  {
   "cell_type": "code",
   "execution_count": 436,
   "metadata": {},
   "outputs": [],
   "source": [
    "bronx_streets = streets.loc[streets['LBoro'] == 2]"
   ]
  },
  {
   "cell_type": "code",
   "execution_count": 600,
   "metadata": {},
   "outputs": [
    {
     "name": "stdout",
     "output_type": "stream",
     "text": [
      "Average slow zone width: 3345.0372814368206\n",
      "Average street segment length: 78.16468484171017\n"
     ]
    }
   ],
   "source": [
    "nodes = nodes.to_crs({'init':'epsg:6347'})\n",
    "slow_zones = slow_zones.to_crs({'init':'epsg:6347'})\n",
    "bronx_streets = bronx_streets.to_crs({'init':'epsg:6347'})\n",
    "\n",
    "avg_zone_width = slow_zones.geometry.length.mean()\n",
    "avg_segment_length = bronx_streets.geometry.length.mean()\n",
    "print(\"Average slow zone width:\", avg_zone_width)\n",
    "print(\"Average street segment length:\", avg_segment_length)"
   ]
  },
  {
   "cell_type": "code",
   "execution_count": 605,
   "metadata": {},
   "outputs": [],
   "source": [
    "def slow_zone_nodes(nodes):\n",
    "    distances = slow_zones.geometry.apply(lambda zone: zone.distance(nodes))\n",
    "    if distances.min() < avg_segment_length:\n",
    "        return 1\n",
    "    else:\n",
    "        return 0"
   ]
  },
  {
   "cell_type": "code",
   "execution_count": 606,
   "metadata": {},
   "outputs": [],
   "source": [
    "ind_list = nodes.geometry.apply(slow_zone_nodes)\n",
    "proximity_ind_dict = {}\n",
    "n_ind = len(ind_list)\n",
    "\n",
    "for idx in range(n_ind):\n",
    "    temp_key = nodes['NODEID'].loc[idx]\n",
    "    temp_val = ind_list[idx]\n",
    "    proximity_ind_dict.update({temp_key: temp_val})\n",
    "\n",
    "nx.set_node_attributes(bronx_all_graph,proximity_ind_dict,'slow_zone_proximity_ind')"
   ]
  },
  {
   "cell_type": "code",
   "execution_count": 607,
   "metadata": {},
   "outputs": [],
   "source": [
    "proximity_modularity = f_modularity('persons_injured', 'slow_zone_proximity_ind')"
   ]
  },
  {
   "cell_type": "code",
   "execution_count": 608,
   "metadata": {},
   "outputs": [
    {
     "name": "stdout",
     "output_type": "stream",
     "text": [
      "Number of nodes in close proximity to slow zones: 1276\n",
      "Percentage of nodes in close proximity to slow zones: 6.555019007500257 %\n",
      "Modularity: 4.883808754577893e-13\n"
     ]
    }
   ],
   "source": [
    "print(\"Number of nodes in close proximity to slow zones:\", proximity_modularity[0])\n",
    "print(\"Percentage of nodes in close proximity to slow zones:\", proximity_modularity[1], \"%\")\n",
    "print(\"Modularity:\", proximity_modularity[2])"
   ]
  },
  {
   "cell_type": "markdown",
   "metadata": {},
   "source": [
    "### Group by total injury degree -- intersections with large number of injuries concentrated in geographic area?"
   ]
  },
  {
   "cell_type": "code",
   "execution_count": 494,
   "metadata": {},
   "outputs": [],
   "source": [
    "all_node_persons_injured = list(bronx_all_graph.degree(weight='persons_injured'))\n",
    "all_node_ped_injured = list(bronx_all_graph.degree(weight='pedestrians_injured'))\n",
    "\n",
    "all_persons_degrees = []\n",
    "all_ped_degrees = []\n",
    "all_list_len = len(bc_centrality)\n",
    "\n",
    "for idx in range(all_list_len):\n",
    "    all_persons_degrees.append(all_node_persons_injured[idx][1])\n",
    "    all_ped_degrees.append(all_node_ped_injured[idx][1])"
   ]
  },
  {
   "cell_type": "code",
   "execution_count": 512,
   "metadata": {},
   "outputs": [
    {
     "name": "stdout",
     "output_type": "stream",
     "text": [
      "4.0\n"
     ]
    }
   ],
   "source": [
    "injury_df = pd.DataFrame(all_node_persons_injured, columns = ['node_id','persons_injured']).sort_values('persons_injured',ascending=False)\n",
    "injury_df.head()\n",
    "\n",
    "injury_thresh = injury_df.quantile(0.95)[1]\n",
    "print(injury_thresh)\n",
    "\n",
    "injury_df['injury_indicator'] = 0\n",
    "injury_df.loc[injury_df['persons_injured'] > injury_thresh, 'injury_indicator'] = 1"
   ]
  },
  {
   "cell_type": "code",
   "execution_count": 609,
   "metadata": {},
   "outputs": [
    {
     "data": {
      "text/html": [
       "<div>\n",
       "<style scoped>\n",
       "    .dataframe tbody tr th:only-of-type {\n",
       "        vertical-align: middle;\n",
       "    }\n",
       "\n",
       "    .dataframe tbody tr th {\n",
       "        vertical-align: top;\n",
       "    }\n",
       "\n",
       "    .dataframe thead th {\n",
       "        text-align: right;\n",
       "    }\n",
       "</style>\n",
       "<table border=\"1\" class=\"dataframe\">\n",
       "  <thead>\n",
       "    <tr style=\"text-align: right;\">\n",
       "      <th></th>\n",
       "      <th>node_id</th>\n",
       "      <th>persons_injured</th>\n",
       "      <th>injury_indicator</th>\n",
       "    </tr>\n",
       "  </thead>\n",
       "  <tbody>\n",
       "    <tr>\n",
       "      <th>10265</th>\n",
       "      <td>97962</td>\n",
       "      <td>42.0</td>\n",
       "      <td>1</td>\n",
       "    </tr>\n",
       "    <tr>\n",
       "      <th>4756</th>\n",
       "      <td>44699</td>\n",
       "      <td>42.0</td>\n",
       "      <td>1</td>\n",
       "    </tr>\n",
       "    <tr>\n",
       "      <th>1910</th>\n",
       "      <td>48820</td>\n",
       "      <td>32.0</td>\n",
       "      <td>1</td>\n",
       "    </tr>\n",
       "    <tr>\n",
       "      <th>7997</th>\n",
       "      <td>49293</td>\n",
       "      <td>32.0</td>\n",
       "      <td>1</td>\n",
       "    </tr>\n",
       "    <tr>\n",
       "      <th>6036</th>\n",
       "      <td>47879</td>\n",
       "      <td>31.0</td>\n",
       "      <td>1</td>\n",
       "    </tr>\n",
       "  </tbody>\n",
       "</table>\n",
       "</div>"
      ],
      "text/plain": [
       "       node_id  persons_injured  injury_indicator\n",
       "10265    97962             42.0                 1\n",
       "4756     44699             42.0                 1\n",
       "1910     48820             32.0                 1\n",
       "7997     49293             32.0                 1\n",
       "6036     47879             31.0                 1"
      ]
     },
     "execution_count": 609,
     "metadata": {},
     "output_type": "execute_result"
    }
   ],
   "source": [
    "injury_df.head()"
   ]
  },
  {
   "cell_type": "code",
   "execution_count": 615,
   "metadata": {},
   "outputs": [],
   "source": [
    "intermediate_injury_dict = injury_df.set_index('node_id').to_dict()\n",
    "node_injury_dict = intermediate_injury_dict['injury_indicator']\n",
    "nx.set_node_attributes(bronx_all_graph, node_injury_dict, 'injury_ind')"
   ]
  },
  {
   "cell_type": "code",
   "execution_count": 616,
   "metadata": {},
   "outputs": [
    {
     "data": {
      "text/plain": [
       "{'injury_ind': 0, 'slow_zone_ind': 0, 'slow_zone_proximity_ind': 0}"
      ]
     },
     "execution_count": 616,
     "metadata": {},
     "output_type": "execute_result"
    }
   ],
   "source": [
    "bronx_all_graph.nodes[47740]"
   ]
  },
  {
   "cell_type": "code",
   "execution_count": 617,
   "metadata": {},
   "outputs": [
    {
     "name": "stdout",
     "output_type": "stream",
     "text": [
      "Number of nodes at or above 95th percentile: 1276\n",
      "Modularity: 4.883808754577893e-13\n"
     ]
    }
   ],
   "source": [
    "injury_modularity = f_modularity('persons_injured', 'injury_ind')"
   ]
  },
  {
   "cell_type": "code",
   "execution_count": 618,
   "metadata": {},
   "outputs": [
    {
     "name": "stdout",
     "output_type": "stream",
     "text": [
      "Number of nodes at or above 95th percentile: 707\n",
      "Modularity: 7.024534880479014e-13\n"
     ]
    }
   ],
   "source": [
    "print(\"Number of nodes at or above 95th percentile:\", injury_modularity[0])\n",
    "print(\"Modularity:\", injury_modularity[2])"
   ]
  },
  {
   "cell_type": "markdown",
   "metadata": {},
   "source": [
    "# Betweenness Centralities"
   ]
  },
  {
   "cell_type": "code",
   "execution_count": 73,
   "metadata": {},
   "outputs": [],
   "source": [
    "bronx_counts = pd.read_csv('bronx_traffic_edges.csv')\n",
    "queens_counts = pd.read_csv('queens_traffic_edges.csv')"
   ]
  },
  {
   "cell_type": "code",
   "execution_count": 74,
   "metadata": {},
   "outputs": [
    {
     "data": {
      "text/html": [
       "<div>\n",
       "<style scoped>\n",
       "    .dataframe tbody tr th:only-of-type {\n",
       "        vertical-align: middle;\n",
       "    }\n",
       "\n",
       "    .dataframe tbody tr th {\n",
       "        vertical-align: top;\n",
       "    }\n",
       "\n",
       "    .dataframe thead th {\n",
       "        text-align: right;\n",
       "    }\n",
       "</style>\n",
       "<table border=\"1\" class=\"dataframe\">\n",
       "  <thead>\n",
       "    <tr style=\"text-align: right;\">\n",
       "      <th></th>\n",
       "      <th>Unnamed: 0</th>\n",
       "      <th>SegmentID</th>\n",
       "      <th>NodeIDFrom</th>\n",
       "      <th>NodeIDTo</th>\n",
       "      <th>LCB2010</th>\n",
       "      <th>RCB2010</th>\n",
       "      <th>persons_injured</th>\n",
       "      <th>pedestrians_injured</th>\n",
       "      <th>volume_count</th>\n",
       "    </tr>\n",
       "  </thead>\n",
       "  <tbody>\n",
       "    <tr>\n",
       "      <th>0</th>\n",
       "      <td>188</td>\n",
       "      <td>81384</td>\n",
       "      <td>49666</td>\n",
       "      <td>54110</td>\n",
       "      <td>1025</td>\n",
       "      <td>1026</td>\n",
       "      <td>0.0</td>\n",
       "      <td>0.0</td>\n",
       "      <td>9021.0</td>\n",
       "    </tr>\n",
       "    <tr>\n",
       "      <th>1</th>\n",
       "      <td>346</td>\n",
       "      <td>88039</td>\n",
       "      <td>53649</td>\n",
       "      <td>53715</td>\n",
       "      <td>4006</td>\n",
       "      <td>1004</td>\n",
       "      <td>0.0</td>\n",
       "      <td>0.0</td>\n",
       "      <td>3027.0</td>\n",
       "    </tr>\n",
       "    <tr>\n",
       "      <th>2</th>\n",
       "      <td>422</td>\n",
       "      <td>69588</td>\n",
       "      <td>42728</td>\n",
       "      <td>42732</td>\n",
       "      <td>1018</td>\n",
       "      <td>1007</td>\n",
       "      <td>0.0</td>\n",
       "      <td>0.0</td>\n",
       "      <td>4951.0</td>\n",
       "    </tr>\n",
       "    <tr>\n",
       "      <th>3</th>\n",
       "      <td>494</td>\n",
       "      <td>88020</td>\n",
       "      <td>53640</td>\n",
       "      <td>53641</td>\n",
       "      <td>2000</td>\n",
       "      <td>1001</td>\n",
       "      <td>0.0</td>\n",
       "      <td>0.0</td>\n",
       "      <td>8288.0</td>\n",
       "    </tr>\n",
       "    <tr>\n",
       "      <th>4</th>\n",
       "      <td>502</td>\n",
       "      <td>88031</td>\n",
       "      <td>53645</td>\n",
       "      <td>53653</td>\n",
       "      <td>1003</td>\n",
       "      <td>3000</td>\n",
       "      <td>4.0</td>\n",
       "      <td>1.0</td>\n",
       "      <td>4763.0</td>\n",
       "    </tr>\n",
       "  </tbody>\n",
       "</table>\n",
       "</div>"
      ],
      "text/plain": [
       "   Unnamed: 0  SegmentID  NodeIDFrom  NodeIDTo  LCB2010  RCB2010  \\\n",
       "0         188      81384       49666     54110     1025     1026   \n",
       "1         346      88039       53649     53715     4006     1004   \n",
       "2         422      69588       42728     42732     1018     1007   \n",
       "3         494      88020       53640     53641     2000     1001   \n",
       "4         502      88031       53645     53653     1003     3000   \n",
       "\n",
       "   persons_injured  pedestrians_injured  volume_count  \n",
       "0              0.0                  0.0        9021.0  \n",
       "1              0.0                  0.0        3027.0  \n",
       "2              0.0                  0.0        4951.0  \n",
       "3              0.0                  0.0        8288.0  \n",
       "4              4.0                  1.0        4763.0  "
      ]
     },
     "execution_count": 74,
     "metadata": {},
     "output_type": "execute_result"
    }
   ],
   "source": [
    "bronx_counts.head()"
   ]
  },
  {
   "cell_type": "code",
   "execution_count": 225,
   "metadata": {},
   "outputs": [],
   "source": [
    "bronx_nonzero_graph = nx.from_pandas_edgelist(bronx_counts,source='NodeIDFrom',target='NodeIDTo',edge_attr=['SegmentID','persons_injured','pedestrians_injured','volume_count'])"
   ]
  },
  {
   "cell_type": "code",
   "execution_count": 228,
   "metadata": {},
   "outputs": [],
   "source": [
    "node_persons_injured = list(bronx_nonzero_graph.degree(weight='persons_injured'))\n",
    "node_ped_injured = list(bronx_nonzero_graph.degree(weight='pedestrians_injured'))\n",
    "node_flow = list(bronx_nonzero_graph.degree(weight='volume_count'))\n",
    "\n",
    "persons_degrees = []\n",
    "ped_degrees = []\n",
    "flow_degrees = []\n",
    "list_len = len(node_persons_injured)\n",
    "\n",
    "for idx in range(list_len):\n",
    "    persons_degrees.append(node_persons_injured[idx][1])\n",
    "    ped_degrees.append(node_ped_injured[idx][1])\n",
    "    flow_degrees.append(node_flow[idx][1])"
   ]
  },
  {
   "cell_type": "code",
   "execution_count": 229,
   "metadata": {},
   "outputs": [
    {
     "data": {
      "text/plain": [
       "<matplotlib.collections.PathCollection at 0x15224c9e48>"
      ]
     },
     "execution_count": 229,
     "metadata": {},
     "output_type": "execute_result"
    },
    {
     "data": {
      "image/png": "[encoded data removed]",
      "text/plain": [
       "<Figure size 432x288 with 1 Axes>"
      ]
     },
     "metadata": {},
     "output_type": "display_data"
    }
   ],
   "source": [
    "plt.scatter(flow_degrees, persons_degrees)"
   ]
  },
  {
   "cell_type": "markdown",
   "metadata": {},
   "source": [
    "##### Find outlier"
   ]
  },
  {
   "cell_type": "code",
   "execution_count": 230,
   "metadata": {},
   "outputs": [
    {
     "data": {
      "text/plain": [
       "<matplotlib.collections.PathCollection at 0x15225c3278>"
      ]
     },
     "execution_count": 230,
     "metadata": {},
     "output_type": "execute_result"
    },
    {
     "data": {
      "image/png": "[encoded data removed]",
      "text/plain": [
       "<Figure size 432x288 with 1 Axes>"
      ]
     },
     "metadata": {},
     "output_type": "display_data"
    }
   ],
   "source": [
    "plt.scatter(flow_degrees, ped_degrees)"
   ]
  },
  {
   "cell_type": "code",
   "execution_count": 211,
   "metadata": {},
   "outputs": [
    {
     "data": {
      "image/png": "[encoded data removed]",
      "text/plain": [
       "<Figure size 432x288 with 1 Axes>"
      ]
     },
     "metadata": {},
     "output_type": "display_data"
    }
   ],
   "source": [
    "nx.draw(bronx_nonzero_graph)"
   ]
  },
  {
   "cell_type": "code",
   "execution_count": 372,
   "metadata": {},
   "outputs": [
    {
     "name": "stdout",
     "output_type": "stream",
     "text": [
      "Number of connected components: 39\n",
      "Number of connected components in graph subset: 157\n"
     ]
    }
   ],
   "source": [
    "n_components = nx.number_connected_components(bronx_all_graph)\n",
    "print(\"Number of connected components:\", n_components)\n",
    "\n",
    "n_nonzero_components = nx.number_connected_components(bronx_nonzero_graph)\n",
    "print(\"Number of connected components in graph subset:\", n_nonzero_components)"
   ]
  },
  {
   "cell_type": "markdown",
   "metadata": {},
   "source": [
    "### Randomly assign degrees to be within range of adjacent nodes' traffic volume degrees "
   ]
  },
  {
   "cell_type": "code",
   "execution_count": 185,
   "metadata": {},
   "outputs": [],
   "source": [
    "node_list = list(bronx_all_graph.nodes())\n",
    "neighbor_dict = {}\n",
    "\n",
    "bronx_all_adj = bronx_all_graph.adj\n",
    "range_dict = {}\n",
    "temp_list = []\n",
    "\n",
    "for node_idx in range(n):\n",
    "    temp_node = node_list[node_idx]\n",
    "    node_info = bronx_all_graph.adj[temp_node]\n",
    "    #print(node_info)\n",
    "    n_keys = len(node_info)\n",
    "    #print(n_keys)\n",
    "    for key_idx in range(n_keys):\n",
    "        #print(key_idx)\n",
    "        temp_key = list(node_info.keys())[key_idx]\n",
    "        temp_list.append(node_info[temp_key]['volume_count'])\n",
    "    max_count = max(temp_list)\n",
    "    min_count = min(temp_list)\n",
    "    range_dict.update({temp_node:{'max':max_count,'min':min_count}})\n",
    "    temp_list = []"
   ]
  },
  {
   "cell_type": "code",
   "execution_count": 195,
   "metadata": {},
   "outputs": [
    {
     "name": "stdout",
     "output_type": "stream",
     "text": [
      "356\n"
     ]
    }
   ],
   "source": [
    "node_len = len(list(bronx_nonzero_graph.nodes()))\n",
    "print(node_len)"
   ]
  },
  {
   "cell_type": "code",
   "execution_count": 189,
   "metadata": {},
   "outputs": [],
   "source": [
    "nonzero_cases = {}\n",
    "\n",
    "for node_idx in range(n):\n",
    "    node_key = node_list[node_idx]\n",
    "    if range_dict[node_key]['max'] > 0:\n",
    "        nonzero_cases.update({node_key: range_dict[node_key]})"
   ]
  },
  {
   "cell_type": "code",
   "execution_count": 191,
   "metadata": {
    "scrolled": true
   },
   "outputs": [
    {
     "name": "stdout",
     "output_type": "stream",
     "text": [
      "325\n"
     ]
    }
   ],
   "source": [
    "print(len(nonzero_cases))"
   ]
  },
  {
   "cell_type": "markdown",
   "metadata": {},
   "source": [
    "### Randomly assign counts to larger network based on distribution of existing values"
   ]
  },
  {
   "cell_type": "code",
   "execution_count": 223,
   "metadata": {},
   "outputs": [],
   "source": [
    "sorted_flow_degrees = sorted(flow_degrees_only)"
   ]
  },
  {
   "cell_type": "code",
   "execution_count": 224,
   "metadata": {},
   "outputs": [
    {
     "data": {
      "text/plain": [
       "[<matplotlib.lines.Line2D at 0x15223d4668>]"
      ]
     },
     "execution_count": 224,
     "metadata": {},
     "output_type": "execute_result"
    },
    {
     "data": {
      "image/png": "[encoded data removed]",
      "text/plain": [
       "<Figure size 432x288 with 1 Axes>"
      ]
     },
     "metadata": {},
     "output_type": "display_data"
    }
   ],
   "source": [
    "plt.plot(sorted_flow_degrees,'bo')"
   ]
  },
  {
   "cell_type": "code",
   "execution_count": 275,
   "metadata": {},
   "outputs": [
    {
     "data": {
      "text/plain": [
       "(array([67., 74., 68., 42., 28., 34., 13.,  6.,  3.,  2.,  3.,  4.,  2.,\n",
       "         0.,  0.,  1.,  3.,  4.,  0.,  2.]),\n",
       " array([  656. ,  4039.7,  7423.4, 10807.1, 14190.8, 17574.5, 20958.2,\n",
       "        24341.9, 27725.6, 31109.3, 34493. , 37876.7, 41260.4, 44644.1,\n",
       "        48027.8, 51411.5, 54795.2, 58178.9, 61562.6, 64946.3, 68330. ]),\n",
       " <a list of 20 Patch objects>)"
      ]
     },
     "execution_count": 275,
     "metadata": {},
     "output_type": "execute_result"
    },
    {
     "data": {
      "image/png": "[encoded data removed]",
      "text/plain": [
       "<Figure size 432x288 with 1 Axes>"
      ]
     },
     "metadata": {},
     "output_type": "display_data"
    }
   ],
   "source": [
    "plt.hist(flow_degrees, bins=20)"
   ]
  },
  {
   "cell_type": "code",
   "execution_count": 310,
   "metadata": {},
   "outputs": [],
   "source": [
    "# Exponential distribution function\n",
    "flow_mean = np.mean(flow_degrees)\n",
    "rate_est = 1/flow_mean\n",
    "scale_est = 1./exp_rate"
   ]
  },
  {
   "cell_type": "code",
   "execution_count": 313,
   "metadata": {},
   "outputs": [],
   "source": [
    "exp_scale = expon.fit(flow_degrees)[1]\n",
    "exp_rate = 1./exp_scale"
   ]
  },
  {
   "cell_type": "code",
   "execution_count": 314,
   "metadata": {},
   "outputs": [
    {
     "name": "stdout",
     "output_type": "stream",
     "text": [
      "Estimated parameter: 8.092454013948117e-05\n",
      "Fit parameter: 8.589421662705999e-05\n",
      "Estimated scale: 12357.191011235956\n",
      "Fit scale: 11642.227373023872\n"
     ]
    }
   ],
   "source": [
    "print(\"Estimated parameter:\", rate_est)\n",
    "print(\"Fit parameter:\", exp_rate)\n",
    "\n",
    "print(\"Estimated scale:\", scale_est)\n",
    "print(\"Fit scale:\", exp_scale)"
   ]
  },
  {
   "cell_type": "code",
   "execution_count": 620,
   "metadata": {},
   "outputs": [],
   "source": [
    "n_iter = 1000\n",
    "edge_list = list(bronx_all_graph.edges())\n",
    "rand_flow_dict = {}\n",
    "\n",
    "for edge_idx in range(m):\n",
    "    edge_key = edge_list[edge_idx]\n",
    "    edge_volumes = nx.get_edge_attributes(bronx_all_graph,'volume_count')\n",
    "    if edge_volumes[edge_key] == 0:\n",
    "        rand_flows = np.random.exponential(exp_scale, n_iter)\n",
    "        rand_edge_val = rand_flows.mean()\n",
    "        rand_flow_dict.update({edge_key: rand_edge_val})\n",
    "        rand_flows = []\n",
    "    else:\n",
    "        data_edge_val = edge_volumes[edge_key]\n",
    "        rand_flow_dict.update({edge_key: data_edge_val})\n",
    "    #attribute_name = \"generated_counts_\" + str(iter_idx)\n",
    "    #nx.set_edge_attributes(bronx_all_graph, rand_flow_dict[iter_key], name = attribute_name)"
   ]
  },
  {
   "cell_type": "code",
   "execution_count": 621,
   "metadata": {},
   "outputs": [],
   "source": [
    "nx.set_edge_attributes(bronx_all_graph, rand_flow_dict, name = 'generated_counts')"
   ]
  },
  {
   "cell_type": "code",
   "execution_count": 623,
   "metadata": {},
   "outputs": [
    {
     "data": {
      "text/plain": [
       "{'SegmentID': 78126,\n",
       " 'generated_counts': 11208.80563737288,\n",
       " 'pedestrians_injured': 0.0,\n",
       " 'persons_injured': 2.0,\n",
       " 'volume_count': 0.0}"
      ]
     },
     "execution_count": 623,
     "metadata": {},
     "output_type": "execute_result"
    }
   ],
   "source": [
    "bronx_all_graph[47740][9045677]"
   ]
  },
  {
   "cell_type": "code",
   "execution_count": 624,
   "metadata": {},
   "outputs": [],
   "source": [
    "bc_centrality = nx.betweenness_centrality(bronx_all_graph, weight='generated_counts')\n",
    "bc_centrality_list = list(bc_centrality.values())"
   ]
  },
  {
   "cell_type": "code",
   "execution_count": 625,
   "metadata": {},
   "outputs": [
    {
     "data": {
      "text/plain": [
       "<matplotlib.collections.PathCollection at 0x1531e84cc0>"
      ]
     },
     "execution_count": 625,
     "metadata": {},
     "output_type": "execute_result"
    },
    {
     "data": {
      "image/png": "[encoded data removed]",
      "text/plain": [
       "<Figure size 432x288 with 1 Axes>"
      ]
     },
     "metadata": {},
     "output_type": "display_data"
    }
   ],
   "source": [
    "plt.scatter(bc_centrality_list, all_persons_degrees)"
   ]
  },
  {
   "cell_type": "code",
   "execution_count": 626,
   "metadata": {},
   "outputs": [
    {
     "data": {
      "text/plain": [
       "<matplotlib.collections.PathCollection at 0x1531e4ab38>"
      ]
     },
     "execution_count": 626,
     "metadata": {},
     "output_type": "execute_result"
    },
    {
     "data": {
      "image/png": "[encoded data removed]",
      "text/plain": [
       "<Figure size 432x288 with 1 Axes>"
      ]
     },
     "metadata": {},
     "output_type": "display_data"
    }
   ],
   "source": [
    "plt.scatter(bc_centrality_list, all_ped_degrees)"
   ]
  },
  {
   "cell_type": "markdown",
   "metadata": {},
   "source": [
    "# Write node .csv"
   ]
  },
  {
   "cell_type": "code",
   "execution_count": 644,
   "metadata": {},
   "outputs": [],
   "source": [
    "node_property_dict = {}\n",
    "\n",
    "for node_idx in range(n):\n",
    "    node_key = node_list[node_idx]\n",
    "    node_slow_zone_indicator = node_dict[node_key]\n",
    "    node_slow_zone_proximity_indicator = proximity_ind_dict[node_key]\n",
    "    node_injury_percentile_indicator = node_injury_dict[node_key]\n",
    "    node_persons_injured_degree = all_node_persons_injured[node_idx][1]\n",
    "    node_ped_injured_degree = all_node_ped_injured[node_idx][1]\n",
    "    node_bc_centrality = bc_centrality[node_key]\n",
    "    node_property_dict.update({node_key: {'slow_zone_indicator': node_slow_zone_indicator, \n",
    "                                          'slow_zone_proximity_indicator': node_slow_zone_proximity_indicator,\n",
    "                                          'injury_percentile_indicator': node_injury_percentile_indicator,\n",
    "                                          'persons_injured': node_persons_injured_degree, \n",
    "                                          'ped_injured': node_ped_injured_degree, \n",
    "                                          'bc_centrality': node_bc_centrality}\n",
    "                              })"
   ]
  },
  {
   "cell_type": "code",
   "execution_count": 649,
   "metadata": {},
   "outputs": [],
   "source": [
    "node_csv = pd.DataFrame.from_dict(node_property_dict, orient='index')"
   ]
  },
  {
   "cell_type": "code",
   "execution_count": 650,
   "metadata": {},
   "outputs": [
    {
     "data": {
      "text/html": [
       "<div>\n",
       "<style scoped>\n",
       "    .dataframe tbody tr th:only-of-type {\n",
       "        vertical-align: middle;\n",
       "    }\n",
       "\n",
       "    .dataframe tbody tr th {\n",
       "        vertical-align: top;\n",
       "    }\n",
       "\n",
       "    .dataframe thead th {\n",
       "        text-align: right;\n",
       "    }\n",
       "</style>\n",
       "<table border=\"1\" class=\"dataframe\">\n",
       "  <thead>\n",
       "    <tr style=\"text-align: right;\">\n",
       "      <th></th>\n",
       "      <th>slow_zone_indicator</th>\n",
       "      <th>slow_zone_proximity_indicator</th>\n",
       "      <th>injury_percentile_indicator</th>\n",
       "      <th>persons_injured</th>\n",
       "      <th>ped_injured</th>\n",
       "      <th>bc_centrality</th>\n",
       "    </tr>\n",
       "  </thead>\n",
       "  <tbody>\n",
       "    <tr>\n",
       "      <th>42354</th>\n",
       "      <td>0</td>\n",
       "      <td>0</td>\n",
       "      <td>0</td>\n",
       "      <td>0.0</td>\n",
       "      <td>0.0</td>\n",
       "      <td>0.000000</td>\n",
       "    </tr>\n",
       "    <tr>\n",
       "      <th>42390</th>\n",
       "      <td>0</td>\n",
       "      <td>0</td>\n",
       "      <td>0</td>\n",
       "      <td>0.0</td>\n",
       "      <td>0.0</td>\n",
       "      <td>0.000000</td>\n",
       "    </tr>\n",
       "    <tr>\n",
       "      <th>42391</th>\n",
       "      <td>0</td>\n",
       "      <td>0</td>\n",
       "      <td>0</td>\n",
       "      <td>0.0</td>\n",
       "      <td>0.0</td>\n",
       "      <td>0.000000</td>\n",
       "    </tr>\n",
       "    <tr>\n",
       "      <th>42392</th>\n",
       "      <td>0</td>\n",
       "      <td>0</td>\n",
       "      <td>0</td>\n",
       "      <td>0.0</td>\n",
       "      <td>0.0</td>\n",
       "      <td>0.000102</td>\n",
       "    </tr>\n",
       "    <tr>\n",
       "      <th>42417</th>\n",
       "      <td>0</td>\n",
       "      <td>0</td>\n",
       "      <td>0</td>\n",
       "      <td>0.0</td>\n",
       "      <td>0.0</td>\n",
       "      <td>0.000216</td>\n",
       "    </tr>\n",
       "  </tbody>\n",
       "</table>\n",
       "</div>"
      ],
      "text/plain": [
       "       slow_zone_indicator  slow_zone_proximity_indicator  \\\n",
       "42354                    0                              0   \n",
       "42390                    0                              0   \n",
       "42391                    0                              0   \n",
       "42392                    0                              0   \n",
       "42417                    0                              0   \n",
       "\n",
       "       injury_percentile_indicator  persons_injured  ped_injured  \\\n",
       "42354                            0              0.0          0.0   \n",
       "42390                            0              0.0          0.0   \n",
       "42391                            0              0.0          0.0   \n",
       "42392                            0              0.0          0.0   \n",
       "42417                            0              0.0          0.0   \n",
       "\n",
       "       bc_centrality  \n",
       "42354       0.000000  \n",
       "42390       0.000000  \n",
       "42391       0.000000  \n",
       "42392       0.000102  \n",
       "42417       0.000216  "
      ]
     },
     "execution_count": 650,
     "metadata": {},
     "output_type": "execute_result"
    }
   ],
   "source": [
    "node_csv.head()"
   ]
  },
  {
   "cell_type": "code",
   "execution_count": 651,
   "metadata": {},
   "outputs": [],
   "source": [
    "node_csv.to_csv(\"node_csv_for_regression.csv\")"
   ]
  },
  {
   "cell_type": "markdown",
   "metadata": {},
   "source": [
    "# ARCHIVE"
   ]
  },
  {
   "cell_type": "markdown",
   "metadata": {},
   "source": [
    "### Find centralities for original graph -- subset to nodes with non-zero traffic volume degree"
   ]
  },
  {
   "cell_type": "code",
   "execution_count": 129,
   "metadata": {},
   "outputs": [],
   "source": [
    "flow_centrality_all = nx.betweenness_centrality(bronx_all_graph,weight='volume_count')\n",
    "flow_centrality_subset = dict((k, flow_centrality_all[k]) for k in flow_centrality_keys)"
   ]
  },
  {
   "cell_type": "code",
   "execution_count": 140,
   "metadata": {},
   "outputs": [],
   "source": [
    "subset_vals = flow_centrality_subset.values()"
   ]
  },
  {
   "cell_type": "code",
   "execution_count": 142,
   "metadata": {},
   "outputs": [
    {
     "data": {
      "text/plain": [
       "(0, 1)"
      ]
     },
     "execution_count": 142,
     "metadata": {},
     "output_type": "execute_result"
    },
    {
     "data": {
      "image/png": "[encoded data removed]",
      "text/plain": [
       "<Figure size 432x288 with 1 Axes>"
      ]
     },
     "metadata": {},
     "output_type": "display_data"
    }
   ],
   "source": [
    "plt.scatter(subset_vals,crash_degrees_only)\n",
    "plt.xlim(0,1)"
   ]
  },
  {
   "cell_type": "markdown",
   "metadata": {},
   "source": [
    "### Create random network topology with same number of nodes"
   ]
  },
  {
   "cell_type": "code",
   "execution_count": 206,
   "metadata": {},
   "outputs": [],
   "source": [
    "to_node = random.sample(range(0, node_len), node_len)\n",
    "from_node = random.sample(range(0, node_len), node_len)\n",
    "\n",
    "rand_edge = pd.DataFrame()\n",
    "rand_edge['to_node'] = to_node\n",
    "rand_edge['from_node'] = from_node\n",
    "\n",
    "#add clause to avoid self-loops\n",
    "\n",
    "rand_edge['persons_injured'] = bronx_counts['persons_injured']\n",
    "rand_edge['volume_count'] = bronx_counts['volume_count']"
   ]
  },
  {
   "cell_type": "code",
   "execution_count": 207,
   "metadata": {},
   "outputs": [],
   "source": [
    "random_graph = nx.from_pandas_edgelist(rand_edge,source='from_node',target='to_node',edge_attr=['persons_injured','volume_count'])"
   ]
  },
  {
   "cell_type": "code",
   "execution_count": 209,
   "metadata": {},
   "outputs": [],
   "source": [
    "r_crash_degrees = list(random_graph.degree(weight='persons_injured'))\n",
    "r_flow_betweenness = nx.betweenness_centrality(random_graph,weight='volume_count').values()\n",
    "\n",
    "r_degrees_only = []\n",
    "\n",
    "for idx in range(node_len):\n",
    "    r_degrees_only.append(r_crash_degrees[idx][1])"
   ]
  },
  {
   "cell_type": "code",
   "execution_count": 210,
   "metadata": {},
   "outputs": [
    {
     "data": {
      "text/plain": [
       "<matplotlib.collections.PathCollection at 0x1516f6b208>"
      ]
     },
     "execution_count": 210,
     "metadata": {},
     "output_type": "execute_result"
    },
    {
     "data": {
      "image/png": "[encoded data removed]",
      "text/plain": [
       "<Figure size 432x288 with 1 Axes>"
      ]
     },
     "metadata": {},
     "output_type": "display_data"
    }
   ],
   "source": [
    "plt.scatter(r_flow_betweenness,r_degrees_only)"
   ]
  }
 ],
 "metadata": {
  "kernelspec": {
   "display_name": "Python 3",
   "language": "python",
   "name": "python3"
  },
  "language_info": {
   "codemirror_mode": {
    "name": "ipython",
    "version": 3
   },
   "file_extension": ".py",
   "mimetype": "text/x-python",
   "name": "python",
   "nbconvert_exporter": "python",
   "pygments_lexer": "ipython3",
   "version": "3.7.1"
  }
 },
 "nbformat": 4,
 "nbformat_minor": 2
}
