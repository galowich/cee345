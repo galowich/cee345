{
 "cells": [
  {
   "cell_type": "code",
   "execution_count": 46,
   "metadata": {},
   "outputs": [],
   "source": [
    "import numpy as np\n",
    "import pandas as pd\n",
    "import networkx as nx\n",
    "import matplotlib.pyplot as plt\n",
    "from networkx.algorithms import community"
   ]
  },
  {
   "cell_type": "markdown",
   "metadata": {},
   "source": [
    "# Slow Zone Modularity Analysis"
   ]
  },
  {
   "cell_type": "code",
   "execution_count": 2,
   "metadata": {},
   "outputs": [],
   "source": [
    "bronx_all = pd.read_csv('all_bronx_edges.csv')\n",
    "queens_all = pd.read_csv('all_queens_edges.csv')"
   ]
  },
  {
   "cell_type": "code",
   "execution_count": 3,
   "metadata": {},
   "outputs": [
    {
     "data": {
      "text/html": [
       "<div>\n",
       "<style scoped>\n",
       "    .dataframe tbody tr th:only-of-type {\n",
       "        vertical-align: middle;\n",
       "    }\n",
       "\n",
       "    .dataframe tbody tr th {\n",
       "        vertical-align: top;\n",
       "    }\n",
       "\n",
       "    .dataframe thead th {\n",
       "        text-align: right;\n",
       "    }\n",
       "</style>\n",
       "<table border=\"1\" class=\"dataframe\">\n",
       "  <thead>\n",
       "    <tr style=\"text-align: right;\">\n",
       "      <th></th>\n",
       "      <th>Unnamed: 0</th>\n",
       "      <th>SegmentID</th>\n",
       "      <th>NodeIDFrom</th>\n",
       "      <th>NodeIDTo</th>\n",
       "      <th>LCB2010</th>\n",
       "      <th>RCB2010</th>\n",
       "      <th>persons_injured</th>\n",
       "      <th>pedestrians_injured</th>\n",
       "      <th>volume_count</th>\n",
       "    </tr>\n",
       "  </thead>\n",
       "  <tbody>\n",
       "    <tr>\n",
       "      <th>0</th>\n",
       "      <td>0</td>\n",
       "      <td>78126</td>\n",
       "      <td>47740</td>\n",
       "      <td>9045677</td>\n",
       "      <td>3001</td>\n",
       "      <td>2000</td>\n",
       "      <td>2.0</td>\n",
       "      <td>0.0</td>\n",
       "      <td>0.0</td>\n",
       "    </tr>\n",
       "    <tr>\n",
       "      <th>1</th>\n",
       "      <td>1</td>\n",
       "      <td>79796</td>\n",
       "      <td>48679</td>\n",
       "      <td>48678</td>\n",
       "      <td>2000</td>\n",
       "      <td>1004</td>\n",
       "      <td>0.0</td>\n",
       "      <td>0.0</td>\n",
       "      <td>0.0</td>\n",
       "    </tr>\n",
       "    <tr>\n",
       "      <th>2</th>\n",
       "      <td>2</td>\n",
       "      <td>77356</td>\n",
       "      <td>47288</td>\n",
       "      <td>47822</td>\n",
       "      <td>2000</td>\n",
       "      <td>3006</td>\n",
       "      <td>0.0</td>\n",
       "      <td>0.0</td>\n",
       "      <td>0.0</td>\n",
       "    </tr>\n",
       "    <tr>\n",
       "      <th>3</th>\n",
       "      <td>3</td>\n",
       "      <td>73490</td>\n",
       "      <td>45034</td>\n",
       "      <td>45038</td>\n",
       "      <td>1004</td>\n",
       "      <td>1008</td>\n",
       "      <td>0.0</td>\n",
       "      <td>0.0</td>\n",
       "      <td>0.0</td>\n",
       "    </tr>\n",
       "    <tr>\n",
       "      <th>4</th>\n",
       "      <td>4</td>\n",
       "      <td>174633</td>\n",
       "      <td>84655</td>\n",
       "      <td>45050</td>\n",
       "      <td>1003</td>\n",
       "      <td>1001</td>\n",
       "      <td>0.0</td>\n",
       "      <td>0.0</td>\n",
       "      <td>0.0</td>\n",
       "    </tr>\n",
       "  </tbody>\n",
       "</table>\n",
       "</div>"
      ],
      "text/plain": [
       "   Unnamed: 0  SegmentID  NodeIDFrom  NodeIDTo  LCB2010  RCB2010  \\\n",
       "0           0      78126       47740   9045677     3001     2000   \n",
       "1           1      79796       48679     48678     2000     1004   \n",
       "2           2      77356       47288     47822     2000     3006   \n",
       "3           3      73490       45034     45038     1004     1008   \n",
       "4           4     174633       84655     45050     1003     1001   \n",
       "\n",
       "   persons_injured  pedestrians_injured  volume_count  \n",
       "0              2.0                  0.0           0.0  \n",
       "1              0.0                  0.0           0.0  \n",
       "2              0.0                  0.0           0.0  \n",
       "3              0.0                  0.0           0.0  \n",
       "4              0.0                  0.0           0.0  "
      ]
     },
     "execution_count": 3,
     "metadata": {},
     "output_type": "execute_result"
    }
   ],
   "source": [
    "bronx_all.head()"
   ]
  },
  {
   "cell_type": "code",
   "execution_count": 5,
   "metadata": {},
   "outputs": [],
   "source": [
    "bronx_all_graph = nx.from_pandas_edgelist(bronx_all,source='NodeIDFrom',target='NodeIDTo',edge_attr=['SegmentID','persons_injured','pedestrians_injured','volume_count'])"
   ]
  },
  {
   "cell_type": "code",
   "execution_count": 10,
   "metadata": {},
   "outputs": [
    {
     "data": {
      "text/plain": [
       "{'SegmentID': 78126,\n",
       " 'pedestrians_injured': 0.0,\n",
       " 'persons_injured': 2.0,\n",
       " 'volume_count': 0.0}"
      ]
     },
     "execution_count": 10,
     "metadata": {},
     "output_type": "execute_result"
    }
   ],
   "source": [
    "bronx_all_graph[47740][9045677]"
   ]
  },
  {
   "cell_type": "code",
   "execution_count": 38,
   "metadata": {},
   "outputs": [
    {
     "data": {
      "text/html": [
       "<div>\n",
       "<style scoped>\n",
       "    .dataframe tbody tr th:only-of-type {\n",
       "        vertical-align: middle;\n",
       "    }\n",
       "\n",
       "    .dataframe tbody tr th {\n",
       "        vertical-align: top;\n",
       "    }\n",
       "\n",
       "    .dataframe thead th {\n",
       "        text-align: right;\n",
       "    }\n",
       "</style>\n",
       "<table border=\"1\" class=\"dataframe\">\n",
       "  <thead>\n",
       "    <tr style=\"text-align: right;\">\n",
       "      <th></th>\n",
       "      <th>Unnamed: 0</th>\n",
       "      <th>NODEID</th>\n",
       "      <th>name</th>\n",
       "      <th>year</th>\n",
       "      <th>zone_ind</th>\n",
       "    </tr>\n",
       "  </thead>\n",
       "  <tbody>\n",
       "    <tr>\n",
       "      <th>114758</th>\n",
       "      <td>114759</td>\n",
       "      <td>9015180</td>\n",
       "      <td>Riverdale SZ</td>\n",
       "      <td>2013.0</td>\n",
       "      <td>1</td>\n",
       "    </tr>\n",
       "    <tr>\n",
       "      <th>103570</th>\n",
       "      <td>103571</td>\n",
       "      <td>9000931</td>\n",
       "      <td>Alphabet City Tompkins Square Park SZ</td>\n",
       "      <td>2014.0</td>\n",
       "      <td>1</td>\n",
       "    </tr>\n",
       "    <tr>\n",
       "      <th>103562</th>\n",
       "      <td>103563</td>\n",
       "      <td>9000923</td>\n",
       "      <td>Alphabet City Tompkins Square Park SZ</td>\n",
       "      <td>2014.0</td>\n",
       "      <td>1</td>\n",
       "    </tr>\n",
       "    <tr>\n",
       "      <th>103558</th>\n",
       "      <td>103559</td>\n",
       "      <td>9000919</td>\n",
       "      <td>Alphabet City Tompkins Square Park SZ</td>\n",
       "      <td>2014.0</td>\n",
       "      <td>1</td>\n",
       "    </tr>\n",
       "    <tr>\n",
       "      <th>103554</th>\n",
       "      <td>103555</td>\n",
       "      <td>9000915</td>\n",
       "      <td>Alphabet City Tompkins Square Park SZ</td>\n",
       "      <td>2014.0</td>\n",
       "      <td>1</td>\n",
       "    </tr>\n",
       "  </tbody>\n",
       "</table>\n",
       "</div>"
      ],
      "text/plain": [
       "        Unnamed: 0   NODEID                                   name    year  \\\n",
       "114758      114759  9015180                           Riverdale SZ  2013.0   \n",
       "103570      103571  9000931  Alphabet City Tompkins Square Park SZ  2014.0   \n",
       "103562      103563  9000923  Alphabet City Tompkins Square Park SZ  2014.0   \n",
       "103558      103559  9000919  Alphabet City Tompkins Square Park SZ  2014.0   \n",
       "103554      103555  9000915  Alphabet City Tompkins Square Park SZ  2014.0   \n",
       "\n",
       "        zone_ind  \n",
       "114758         1  \n",
       "103570         1  \n",
       "103562         1  \n",
       "103558         1  \n",
       "103554         1  "
      ]
     },
     "execution_count": 38,
     "metadata": {},
     "output_type": "execute_result"
    }
   ],
   "source": [
    "node_indicators = pd.read_csv('node_slow_zone_indicators.csv').fillna(0)\n",
    "node_indicators.sort_values('zone_ind',ascending=False).head()"
   ]
  },
  {
   "cell_type": "code",
   "execution_count": 64,
   "metadata": {},
   "outputs": [],
   "source": [
    "node_dict = pd.Series(node_indicators.zone_ind,index=node_indicators.NODEID).to_dict()\n",
    "node_dict\n",
    "#need to get rid of NaNs?\n",
    "nx.set_node_attributes(bronx_all_graph,node_dict,'slow_zone_ind')"
   ]
  },
  {
   "cell_type": "markdown",
   "metadata": {},
   "source": [
    "https://stackoverflow.com/questions/29897243/graph-modularity-in-python-networkx"
   ]
  },
  {
   "cell_type": "code",
   "execution_count": 68,
   "metadata": {},
   "outputs": [],
   "source": [
    "A_unweighted = nx.to_numpy_matrix(bronx_all_graph)\n",
    "node_degrees = bronx_all_graph.degree(weight='persons_injured')\n",
    "node_indicators = nx.get_node_attributes(bronx_all_graph,'slow_zone_ind')\n",
    "n_edges = A_unweighted.sum()/2"
   ]
  },
  {
   "cell_type": "code",
   "execution_count": 84,
   "metadata": {},
   "outputs": [],
   "source": [
    "bronx_all_modmtx = nx.modularity_matrix(bronx_all_graph, nodelist=None, weight='persons_injured')"
   ]
  },
  {
   "cell_type": "code",
   "execution_count": 85,
   "metadata": {},
   "outputs": [
    {
     "name": "stdout",
     "output_type": "stream",
     "text": [
      "[[-1.45586897e-03  1.99927207e+00 -7.27934486e-04 ... -3.63967243e-04\n",
      "   0.00000000e+00  0.00000000e+00]\n",
      " [ 1.99927207e+00 -3.63967243e-04 -3.63967243e-04 ... -1.81983621e-04\n",
      "   0.00000000e+00  0.00000000e+00]\n",
      " [-7.27934486e-04 -3.63967243e-04 -3.63967243e-04 ... -1.81983621e-04\n",
      "   0.00000000e+00  0.00000000e+00]\n",
      " ...\n",
      " [-3.63967243e-04 -1.81983621e-04 -1.81983621e-04 ... -9.09918107e-05\n",
      "   0.00000000e+00  0.00000000e+00]\n",
      " [ 0.00000000e+00  0.00000000e+00  0.00000000e+00 ...  0.00000000e+00\n",
      "   0.00000000e+00  0.00000000e+00]\n",
      " [ 0.00000000e+00  0.00000000e+00  0.00000000e+00 ...  0.00000000e+00\n",
      "   0.00000000e+00  0.00000000e+00]]\n"
     ]
    }
   ],
   "source": [
    "print(bronx_all_modmtx)"
   ]
  },
  {
   "cell_type": "markdown",
   "metadata": {},
   "source": [
    "# Betweenness Centralities"
   ]
  },
  {
   "cell_type": "code",
   "execution_count": 73,
   "metadata": {},
   "outputs": [],
   "source": [
    "bronx_counts = pd.read_csv('bronx_traffic_edges.csv')\n",
    "queens_counts = pd.read_csv('queens_traffic_edges.csv')"
   ]
  },
  {
   "cell_type": "code",
   "execution_count": 74,
   "metadata": {},
   "outputs": [
    {
     "data": {
      "text/html": [
       "<div>\n",
       "<style scoped>\n",
       "    .dataframe tbody tr th:only-of-type {\n",
       "        vertical-align: middle;\n",
       "    }\n",
       "\n",
       "    .dataframe tbody tr th {\n",
       "        vertical-align: top;\n",
       "    }\n",
       "\n",
       "    .dataframe thead th {\n",
       "        text-align: right;\n",
       "    }\n",
       "</style>\n",
       "<table border=\"1\" class=\"dataframe\">\n",
       "  <thead>\n",
       "    <tr style=\"text-align: right;\">\n",
       "      <th></th>\n",
       "      <th>Unnamed: 0</th>\n",
       "      <th>SegmentID</th>\n",
       "      <th>NodeIDFrom</th>\n",
       "      <th>NodeIDTo</th>\n",
       "      <th>LCB2010</th>\n",
       "      <th>RCB2010</th>\n",
       "      <th>persons_injured</th>\n",
       "      <th>pedestrians_injured</th>\n",
       "      <th>volume_count</th>\n",
       "    </tr>\n",
       "  </thead>\n",
       "  <tbody>\n",
       "    <tr>\n",
       "      <th>0</th>\n",
       "      <td>188</td>\n",
       "      <td>81384</td>\n",
       "      <td>49666</td>\n",
       "      <td>54110</td>\n",
       "      <td>1025</td>\n",
       "      <td>1026</td>\n",
       "      <td>0.0</td>\n",
       "      <td>0.0</td>\n",
       "      <td>9021.0</td>\n",
       "    </tr>\n",
       "    <tr>\n",
       "      <th>1</th>\n",
       "      <td>346</td>\n",
       "      <td>88039</td>\n",
       "      <td>53649</td>\n",
       "      <td>53715</td>\n",
       "      <td>4006</td>\n",
       "      <td>1004</td>\n",
       "      <td>0.0</td>\n",
       "      <td>0.0</td>\n",
       "      <td>3027.0</td>\n",
       "    </tr>\n",
       "    <tr>\n",
       "      <th>2</th>\n",
       "      <td>422</td>\n",
       "      <td>69588</td>\n",
       "      <td>42728</td>\n",
       "      <td>42732</td>\n",
       "      <td>1018</td>\n",
       "      <td>1007</td>\n",
       "      <td>0.0</td>\n",
       "      <td>0.0</td>\n",
       "      <td>4951.0</td>\n",
       "    </tr>\n",
       "    <tr>\n",
       "      <th>3</th>\n",
       "      <td>494</td>\n",
       "      <td>88020</td>\n",
       "      <td>53640</td>\n",
       "      <td>53641</td>\n",
       "      <td>2000</td>\n",
       "      <td>1001</td>\n",
       "      <td>0.0</td>\n",
       "      <td>0.0</td>\n",
       "      <td>8288.0</td>\n",
       "    </tr>\n",
       "    <tr>\n",
       "      <th>4</th>\n",
       "      <td>502</td>\n",
       "      <td>88031</td>\n",
       "      <td>53645</td>\n",
       "      <td>53653</td>\n",
       "      <td>1003</td>\n",
       "      <td>3000</td>\n",
       "      <td>4.0</td>\n",
       "      <td>1.0</td>\n",
       "      <td>4763.0</td>\n",
       "    </tr>\n",
       "  </tbody>\n",
       "</table>\n",
       "</div>"
      ],
      "text/plain": [
       "   Unnamed: 0  SegmentID  NodeIDFrom  NodeIDTo  LCB2010  RCB2010  \\\n",
       "0         188      81384       49666     54110     1025     1026   \n",
       "1         346      88039       53649     53715     4006     1004   \n",
       "2         422      69588       42728     42732     1018     1007   \n",
       "3         494      88020       53640     53641     2000     1001   \n",
       "4         502      88031       53645     53653     1003     3000   \n",
       "\n",
       "   persons_injured  pedestrians_injured  volume_count  \n",
       "0              0.0                  0.0        9021.0  \n",
       "1              0.0                  0.0        3027.0  \n",
       "2              0.0                  0.0        4951.0  \n",
       "3              0.0                  0.0        8288.0  \n",
       "4              4.0                  1.0        4763.0  "
      ]
     },
     "execution_count": 74,
     "metadata": {},
     "output_type": "execute_result"
    }
   ],
   "source": [
    "bronx_counts.head()"
   ]
  },
  {
   "cell_type": "code",
   "execution_count": 75,
   "metadata": {},
   "outputs": [],
   "source": [
    "bronx_nonzero_graph = nx.from_pandas_edgelist(bronx_counts,source='NodeIDFrom',target='NodeIDTo',edge_attr=['SegmentID','persons_injured','pedestrians_injured','volume_count'])"
   ]
  },
  {
   "cell_type": "code",
   "execution_count": 76,
   "metadata": {},
   "outputs": [],
   "source": [
    "crash_injury_degrees = bronx_nonzero_graph.degree(weight='persons_injured')\n",
    "volume_degrees = bronx_nonzero_graph.degree(weight='volume_count')"
   ]
  },
  {
   "cell_type": "code",
   "execution_count": 82,
   "metadata": {},
   "outputs": [],
   "source": [
    "flow_centrality = nx.betweenness_centrality(bronx_nonzero_graph,weight='volume_count')\n",
    "crash_centrality = nx.betweenness_centrality(bronx_nonzero_graph,weight='persons_injured')"
   ]
  }
 ],
 "metadata": {
  "kernelspec": {
   "display_name": "Python 3",
   "language": "python",
   "name": "python3"
  },
  "language_info": {
   "codemirror_mode": {
    "name": "ipython",
    "version": 3
   },
   "file_extension": ".py",
   "mimetype": "text/x-python",
   "name": "python",
   "nbconvert_exporter": "python",
   "pygments_lexer": "ipython3",
   "version": "3.6.4"
  }
 },
 "nbformat": 4,
 "nbformat_minor": 2
}
