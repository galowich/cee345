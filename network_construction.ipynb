{
 "cells": [
  {
   "cell_type": "code",
   "execution_count": 1,
   "metadata": {},
   "outputs": [],
   "source": [
    "import numpy as np\n",
    "import pandas as pd\n",
    "import geopandas as gpd\n",
    "import matplotlib.pyplot as plt\n",
    "import time\n",
    "#import csv"
   ]
  },
  {
   "cell_type": "code",
   "execution_count": 2,
   "metadata": {},
   "outputs": [],
   "source": [
    "streets = gpd.read_file(\"/Users/rgalowich/Desktop/PC - Shared/CEE 345/lion_streets\")\n",
    "crashes = gpd.read_file(\"/Users/rgalowich/Desktop/PC - Shared/CEE 345/2018_crashes\")\n",
    "traffic_volume = pd.read_csv(\"/Users/rgalowich/Documents/GitHub/cee345/TrafficVolCounts_mod.csv\")"
   ]
  },
  {
   "cell_type": "code",
   "execution_count": 3,
   "metadata": {},
   "outputs": [
    {
     "name": "stdout",
     "output_type": "stream",
     "text": [
      "Number of crashes in each Borough: BOROUGH\n",
      "BRONX            22111\n",
      "BROOKLYN         46301\n",
      "MANHATTAN        29717\n",
      "QUEENS           40389\n",
      "STATEN ISLAND     5985\n",
      "Name: TIME, dtype: int64 \n",
      "\n",
      "Number of streets in each Borough: LBoro\n",
      "0     1403\n",
      "1    28008\n",
      "2    31437\n",
      "3    42547\n",
      "4    65757\n",
      "5    26513\n",
      "Name: SegmentID, dtype: int64\n"
     ]
    }
   ],
   "source": [
    "crashes = crashes.loc[(crashes.LATITUDE != 0) & (crashes.LONGITUDE != 0)] \n",
    "borough_crashes = crashes.groupby('BOROUGH')\n",
    "borough_crash_count = borough_crashes['TIME'].count()\n",
    "borough_streets = streets.groupby('LBoro')\n",
    "borough_street_count = borough_streets['SegmentID'].count()\n",
    "\n",
    "print(\"Number of crashes in each Borough:\", borough_crash_count, '\\n')\n",
    "print(\"Number of streets in each Borough:\", borough_street_count)\n",
    "\n",
    "# 1 = Manhattan, 2 = Bronx, 3 = Brooklyn, 4 = Queens, 5 = Staten Island"
   ]
  },
  {
   "cell_type": "code",
   "execution_count": 4,
   "metadata": {},
   "outputs": [],
   "source": [
    "crashes.crs = {'init': 'epsg:4326'}"
   ]
  },
  {
   "cell_type": "code",
   "execution_count": 5,
   "metadata": {},
   "outputs": [],
   "source": [
    "streets = streets.to_crs({'init':'epsg:6347'})\n",
    "crashes = crashes.to_crs({'init':'epsg:6347'})"
   ]
  },
  {
   "cell_type": "code",
   "execution_count": 6,
   "metadata": {},
   "outputs": [],
   "source": [
    "bronx_streets = streets.loc[streets['LBoro'] == 2]\n",
    "bronx_crashes = crashes.loc[crashes['BOROUGH']=='BRONX']"
   ]
  },
  {
   "cell_type": "code",
   "execution_count": 7,
   "metadata": {},
   "outputs": [],
   "source": [
    "def bronx_closest_street(point):\n",
    "    distances = bronx_streets.geometry.apply(lambda street: street.distance(point))\n",
    "    street_id = distances.argmin()\n",
    "    if distances.min() < 250:\n",
    "        return(streets.SegmentID[street_id])\n",
    "    else:\n",
    "        return -1"
   ]
  },
  {
   "cell_type": "code",
   "execution_count": 8,
   "metadata": {},
   "outputs": [
    {
     "name": "stderr",
     "output_type": "stream",
     "text": [
      "/Users/rgalowich/anaconda3/lib/python3.6/site-packages/ipykernel_launcher.py:3: FutureWarning: 'argmin' is deprecated, use 'idxmin' instead. The behavior of 'argmin'\n",
      "will be corrected to return the positional minimum in the future.\n",
      "Use 'series.values.argmin' to get the position of the minimum now.\n",
      "  This is separate from the ipykernel package so we can avoid doing imports until\n",
      "/Users/rgalowich/anaconda3/lib/python3.6/site-packages/ipykernel_launcher.py:1: SettingWithCopyWarning: \n",
      "A value is trying to be set on a copy of a slice from a DataFrame.\n",
      "Try using .loc[row_indexer,col_indexer] = value instead\n",
      "\n",
      "See the caveats in the documentation: http://pandas.pydata.org/pandas-docs/stable/indexing.html#indexing-view-versus-copy\n",
      "  \"\"\"Entry point for launching an IPython kernel.\n"
     ]
    }
   ],
   "source": [
    "bronx_crashes['SegmentID'] = bronx_crashes.geometry.apply(bronx_closest_street)"
   ]
  },
  {
   "cell_type": "code",
   "execution_count": 9,
   "metadata": {},
   "outputs": [],
   "source": [
    "queens_streets = streets.loc[streets['LBoro'] == 4]\n",
    "queens_crashes = crashes.loc[crashes['BOROUGH']=='QUEENS']"
   ]
  },
  {
   "cell_type": "code",
   "execution_count": 10,
   "metadata": {},
   "outputs": [],
   "source": [
    "def queens_closest_street(point):\n",
    "    distances = queens_streets.geometry.apply(lambda street: street.distance(point))\n",
    "    street_id = distances.argmin()\n",
    "    if distances.min() < 250:\n",
    "        return(streets.SegmentID[street_id])\n",
    "    else:\n",
    "        return -1"
   ]
  },
  {
   "cell_type": "code",
   "execution_count": 12,
   "metadata": {},
   "outputs": [
    {
     "name": "stderr",
     "output_type": "stream",
     "text": [
      "/Users/rgalowich/anaconda3/lib/python3.6/site-packages/ipykernel_launcher.py:3: FutureWarning: 'argmin' is deprecated, use 'idxmin' instead. The behavior of 'argmin'\n",
      "will be corrected to return the positional minimum in the future.\n",
      "Use 'series.values.argmin' to get the position of the minimum now.\n",
      "  This is separate from the ipykernel package so we can avoid doing imports until\n",
      "/Users/rgalowich/anaconda3/lib/python3.6/site-packages/ipykernel_launcher.py:1: SettingWithCopyWarning: \n",
      "A value is trying to be set on a copy of a slice from a DataFrame.\n",
      "Try using .loc[row_indexer,col_indexer] = value instead\n",
      "\n",
      "See the caveats in the documentation: http://pandas.pydata.org/pandas-docs/stable/indexing.html#indexing-view-versus-copy\n",
      "  \"\"\"Entry point for launching an IPython kernel.\n"
     ]
    }
   ],
   "source": [
    "queens_crashes['SegmentID'] = queens_crashes.geometry.apply(queens_closest_street)"
   ]
  },
  {
   "cell_type": "code",
   "execution_count": 14,
   "metadata": {},
   "outputs": [],
   "source": [
    "def join(crash_data,street_data,traffic_data):\n",
    "    crash_subset = crash_data[['NUMBER_OF','NUMBER_O_2','SegmentID']].dropna().rename({\"NUMBER_OF\":\"persons_injured\",\"NUMBER_O_2\":\"pedestrians_injured\"},axis=1)\n",
    "    crash_groups = crash_subset.groupby('SegmentID').sum().drop(-1,axis=0)\n",
    "    street_subset = street_data[['SegmentID','NodeIDFrom','NodeIDTo','LCB2010','RCB2010']]\n",
    "    street_unique = street_subset.drop_duplicates()\n",
    "    crash_join = street_unique.merge(crash_groups, how='left', on='SegmentID').fillna(0)\n",
    "    traffic_volume = traffic_data.rename({'Segment ID':'SegmentID','segment_average_sum':'volume_count'},axis=1)\n",
    "    traffic_subset = traffic_volume[['SegmentID','volume_count']]\n",
    "    traffic_subset['SegmentID'] = traffic_subset['SegmentID'].astype(str)\n",
    "    crash_join['SegmentID'] = crash_join['SegmentID'].astype(str).str.lstrip(\"0\")\n",
    "    street_edges = crash_join.merge(traffic_subset, how='left', on='SegmentID').fillna(0)\n",
    "    n_matches = street_edges['volume_count'].astype(bool).sum(axis=0)\n",
    "    return([street_edges,n_matches]) "
   ]
  },
  {
   "cell_type": "code",
   "execution_count": 15,
   "metadata": {},
   "outputs": [
    {
     "name": "stderr",
     "output_type": "stream",
     "text": [
      "/Users/rgalowich/anaconda3/lib/python3.6/site-packages/ipykernel_launcher.py:9: SettingWithCopyWarning: \n",
      "A value is trying to be set on a copy of a slice from a DataFrame.\n",
      "Try using .loc[row_indexer,col_indexer] = value instead\n",
      "\n",
      "See the caveats in the documentation: http://pandas.pydata.org/pandas-docs/stable/indexing.html#indexing-view-versus-copy\n",
      "  if __name__ == '__main__':\n"
     ]
    }
   ],
   "source": [
    "bronx_join = join(bronx_crashes,bronx_streets,traffic_volume)\n",
    "queens_join = join(queens_crashes,queens_streets,traffic_volume)"
   ]
  },
  {
   "cell_type": "code",
   "execution_count": 17,
   "metadata": {},
   "outputs": [
    {
     "name": "stdout",
     "output_type": "stream",
     "text": [
      "Number of Bronx streets counted: 199 \n",
      "\n",
      "Number of Queens streets counted: 254\n"
     ]
    }
   ],
   "source": [
    "print(\"Number of Bronx streets counted:\", bronx_join[1], \"\\n\")\n",
    "print(\"Number of Queens streets counted:\", queens_join[1])"
   ]
  },
  {
   "cell_type": "code",
   "execution_count": 18,
   "metadata": {},
   "outputs": [],
   "source": [
    "bronx_edges = bronx_join[0]\n",
    "queens_edges = queens_join[0]"
   ]
  },
  {
   "cell_type": "code",
   "execution_count": 21,
   "metadata": {},
   "outputs": [
    {
     "data": {
      "text/html": [
       "<div>\n",
       "<style scoped>\n",
       "    .dataframe tbody tr th:only-of-type {\n",
       "        vertical-align: middle;\n",
       "    }\n",
       "\n",
       "    .dataframe tbody tr th {\n",
       "        vertical-align: top;\n",
       "    }\n",
       "\n",
       "    .dataframe thead th {\n",
       "        text-align: right;\n",
       "    }\n",
       "</style>\n",
       "<table border=\"1\" class=\"dataframe\">\n",
       "  <thead>\n",
       "    <tr style=\"text-align: right;\">\n",
       "      <th></th>\n",
       "      <th>SegmentID</th>\n",
       "      <th>NodeIDFrom</th>\n",
       "      <th>NodeIDTo</th>\n",
       "      <th>LCB2010</th>\n",
       "      <th>RCB2010</th>\n",
       "      <th>persons_injured</th>\n",
       "      <th>pedestrians_injured</th>\n",
       "      <th>volume_count</th>\n",
       "    </tr>\n",
       "  </thead>\n",
       "  <tbody>\n",
       "    <tr>\n",
       "      <th>14741</th>\n",
       "      <td>179545</td>\n",
       "      <td>0057113</td>\n",
       "      <td>0079107</td>\n",
       "      <td>1051</td>\n",
       "      <td>1003</td>\n",
       "      <td>0.0</td>\n",
       "      <td>0.0</td>\n",
       "      <td>68330.0</td>\n",
       "    </tr>\n",
       "    <tr>\n",
       "      <th>14002</th>\n",
       "      <td>73294</td>\n",
       "      <td>0044904</td>\n",
       "      <td>0044909</td>\n",
       "      <td>4001</td>\n",
       "      <td>1001</td>\n",
       "      <td>0.0</td>\n",
       "      <td>0.0</td>\n",
       "      <td>59087.0</td>\n",
       "    </tr>\n",
       "    <tr>\n",
       "      <th>835</th>\n",
       "      <td>73220</td>\n",
       "      <td>0044850</td>\n",
       "      <td>0044852</td>\n",
       "      <td>2000</td>\n",
       "      <td>4001</td>\n",
       "      <td>0.0</td>\n",
       "      <td>0.0</td>\n",
       "      <td>58463.0</td>\n",
       "    </tr>\n",
       "    <tr>\n",
       "      <th>14950</th>\n",
       "      <td>174566</td>\n",
       "      <td>0044854</td>\n",
       "      <td>0084498</td>\n",
       "      <td>1002</td>\n",
       "      <td>3001</td>\n",
       "      <td>0.0</td>\n",
       "      <td>0.0</td>\n",
       "      <td>56372.0</td>\n",
       "    </tr>\n",
       "    <tr>\n",
       "      <th>11544</th>\n",
       "      <td>178395</td>\n",
       "      <td>0098012</td>\n",
       "      <td>0053407</td>\n",
       "      <td>1036</td>\n",
       "      <td>1001</td>\n",
       "      <td>0.0</td>\n",
       "      <td>0.0</td>\n",
       "      <td>41085.0</td>\n",
       "    </tr>\n",
       "  </tbody>\n",
       "</table>\n",
       "</div>"
      ],
      "text/plain": [
       "      SegmentID NodeIDFrom NodeIDTo LCB2010 RCB2010  persons_injured  \\\n",
       "14741    179545    0057113  0079107    1051    1003              0.0   \n",
       "14002     73294    0044904  0044909    4001    1001              0.0   \n",
       "835       73220    0044850  0044852    2000    4001              0.0   \n",
       "14950    174566    0044854  0084498    1002    3001              0.0   \n",
       "11544    178395    0098012  0053407    1036    1001              0.0   \n",
       "\n",
       "       pedestrians_injured  volume_count  \n",
       "14741                  0.0       68330.0  \n",
       "14002                  0.0       59087.0  \n",
       "835                    0.0       58463.0  \n",
       "14950                  0.0       56372.0  \n",
       "11544                  0.0       41085.0  "
      ]
     },
     "execution_count": 21,
     "metadata": {},
     "output_type": "execute_result"
    }
   ],
   "source": [
    "bronx_edges.sort_values('volume_count',ascending=False).head()"
   ]
  },
  {
   "cell_type": "code",
   "execution_count": 22,
   "metadata": {},
   "outputs": [
    {
     "data": {
      "text/html": [
       "<div>\n",
       "<style scoped>\n",
       "    .dataframe tbody tr th:only-of-type {\n",
       "        vertical-align: middle;\n",
       "    }\n",
       "\n",
       "    .dataframe tbody tr th {\n",
       "        vertical-align: top;\n",
       "    }\n",
       "\n",
       "    .dataframe thead th {\n",
       "        text-align: right;\n",
       "    }\n",
       "</style>\n",
       "<table border=\"1\" class=\"dataframe\">\n",
       "  <thead>\n",
       "    <tr style=\"text-align: right;\">\n",
       "      <th></th>\n",
       "      <th>SegmentID</th>\n",
       "      <th>NodeIDFrom</th>\n",
       "      <th>NodeIDTo</th>\n",
       "      <th>LCB2010</th>\n",
       "      <th>RCB2010</th>\n",
       "      <th>persons_injured</th>\n",
       "      <th>pedestrians_injured</th>\n",
       "      <th>volume_count</th>\n",
       "    </tr>\n",
       "  </thead>\n",
       "  <tbody>\n",
       "    <tr>\n",
       "      <th>8907</th>\n",
       "      <td>65634</td>\n",
       "      <td>0040407</td>\n",
       "      <td>0040406</td>\n",
       "      <td>1015</td>\n",
       "      <td>1016</td>\n",
       "      <td>0.0</td>\n",
       "      <td>0.0</td>\n",
       "      <td>149883.0</td>\n",
       "    </tr>\n",
       "    <tr>\n",
       "      <th>27710</th>\n",
       "      <td>56804</td>\n",
       "      <td>0034962</td>\n",
       "      <td>0034963</td>\n",
       "      <td>1008</td>\n",
       "      <td>2001</td>\n",
       "      <td>0.0</td>\n",
       "      <td>0.0</td>\n",
       "      <td>68272.0</td>\n",
       "    </tr>\n",
       "    <tr>\n",
       "      <th>35456</th>\n",
       "      <td>119021</td>\n",
       "      <td>0070097</td>\n",
       "      <td>0036077</td>\n",
       "      <td>2010</td>\n",
       "      <td>1005</td>\n",
       "      <td>0.0</td>\n",
       "      <td>0.0</td>\n",
       "      <td>50437.0</td>\n",
       "    </tr>\n",
       "    <tr>\n",
       "      <th>38968</th>\n",
       "      <td>58623</td>\n",
       "      <td>0036138</td>\n",
       "      <td>0036225</td>\n",
       "      <td>4017</td>\n",
       "      <td>1014</td>\n",
       "      <td>0.0</td>\n",
       "      <td>0.0</td>\n",
       "      <td>41335.0</td>\n",
       "    </tr>\n",
       "    <tr>\n",
       "      <th>29719</th>\n",
       "      <td>54575</td>\n",
       "      <td>0033678</td>\n",
       "      <td>0033688</td>\n",
       "      <td>1010</td>\n",
       "      <td>1011</td>\n",
       "      <td>0.0</td>\n",
       "      <td>0.0</td>\n",
       "      <td>41152.0</td>\n",
       "    </tr>\n",
       "  </tbody>\n",
       "</table>\n",
       "</div>"
      ],
      "text/plain": [
       "      SegmentID NodeIDFrom NodeIDTo LCB2010 RCB2010  persons_injured  \\\n",
       "8907      65634    0040407  0040406    1015    1016              0.0   \n",
       "27710     56804    0034962  0034963    1008    2001              0.0   \n",
       "35456    119021    0070097  0036077    2010    1005              0.0   \n",
       "38968     58623    0036138  0036225    4017    1014              0.0   \n",
       "29719     54575    0033678  0033688    1010    1011              0.0   \n",
       "\n",
       "       pedestrians_injured  volume_count  \n",
       "8907                   0.0      149883.0  \n",
       "27710                  0.0       68272.0  \n",
       "35456                  0.0       50437.0  \n",
       "38968                  0.0       41335.0  \n",
       "29719                  0.0       41152.0  "
      ]
     },
     "execution_count": 22,
     "metadata": {},
     "output_type": "execute_result"
    }
   ],
   "source": [
    "queens_edges.sort_values('volume_count',ascending=False).head()"
   ]
  },
  {
   "cell_type": "code",
   "execution_count": 33,
   "metadata": {},
   "outputs": [],
   "source": [
    "traffic_volume = pd.read_csv(\"/Users/rgalowich/Documents/GitHub/cee345/node_slow_zone_indicators.csv\")"
   ]
  },
  {
   "cell_type": "code",
   "execution_count": 27,
   "metadata": {},
   "outputs": [
    {
     "data": {
      "text/plain": [
       "(199, 8)"
      ]
     },
     "execution_count": 27,
     "metadata": {},
     "output_type": "execute_result"
    }
   ],
   "source": [
    "bronx_nonzero_count = bronx_edges.loc[bronx_edges['volume_count']>0]\n",
    "bronx_nonzero_count.shape"
   ]
  },
  {
   "cell_type": "code",
   "execution_count": 29,
   "metadata": {},
   "outputs": [
    {
     "data": {
      "text/plain": [
       "(254, 8)"
      ]
     },
     "execution_count": 29,
     "metadata": {},
     "output_type": "execute_result"
    }
   ],
   "source": [
    "queens_nonzero_count = queens_edges.loc[queens_edges['volume_count']>0]\n",
    "queens_nonzero_count.shape"
   ]
  },
  {
   "cell_type": "code",
   "execution_count": 31,
   "metadata": {},
   "outputs": [],
   "source": [
    "bronx_edges.to_csv(\"all_bronx_edges.csv\")\n",
    "queens_edges.to_csv(\"all_queens_edges.csv\")"
   ]
  },
  {
   "cell_type": "code",
   "execution_count": 32,
   "metadata": {},
   "outputs": [],
   "source": [
    "bronx_nonzero_count.to_csv(\"bronx_traffic_edges.csv\")\n",
    "queens_nonzero_count.to_csv(\"queens_traffic_edges.csv\")"
   ]
  },
  {
   "cell_type": "code",
   "execution_count": null,
   "metadata": {},
   "outputs": [],
   "source": []
  }
 ],
 "metadata": {
  "kernelspec": {
   "display_name": "Python 3",
   "language": "python",
   "name": "python3"
  },
  "language_info": {
   "codemirror_mode": {
    "name": "ipython",
    "version": 3
   },
   "file_extension": ".py",
   "mimetype": "text/x-python",
   "name": "python",
   "nbconvert_exporter": "python",
   "pygments_lexer": "ipython3",
   "version": "3.6.4"
  }
 },
 "nbformat": 4,
 "nbformat_minor": 2
}
